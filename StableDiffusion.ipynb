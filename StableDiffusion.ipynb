{
 "cells": [
  {
   "cell_type": "code",
   "execution_count": 2,
   "metadata": {
    "id": "aIrgth7sqFML",
    "executionInfo": {
     "status": "ok",
     "timestamp": 1673286222489,
     "user_tz": -60,
     "elapsed": 25487,
     "user": {
      "displayName": "Gabriele Ghisleni",
      "userId": "08348063350819652629"
     }
    }
   },
   "outputs": [],
   "source": [
    "%%capture\n",
    "!pip install diffusers\n",
    "!pip install transformers scipy ftfy\n",
    "!pip install \"ipywidgets>=7,<8\"\n",
    "!pip install accelerate"
   ]
  },
  {
   "cell_type": "code",
   "execution_count": 48,
   "metadata": {
    "colab": {
     "base_uri": "https://localhost:8080/"
    },
    "executionInfo": {
     "elapsed": 2715,
     "status": "ok",
     "timestamp": 1673287644704,
     "user": {
      "displayName": "Gabriele Ghisleni",
      "userId": "08348063350819652629"
     },
     "user_tz": -60
    },
    "id": "pI03w17lBbIJ",
    "outputId": "dbe8c5e8-733f-4032-a4c7-2c072a539f7d"
   },
   "outputs": [
    {
     "output_type": "stream",
     "name": "stdout",
     "text": [
      "Drive already mounted at /content/drive; to attempt to forcibly remount, call drive.mount(\"/content/drive\", force_remount=True).\n"
     ]
    }
   ],
   "source": [
    "import huggingface_hub, diffusers, torch, os, google, itertools, warnings\n",
    "\n",
    "warnings.filterwarnings('ignore')\n",
    "google.colab.drive.mount('/content/drive')\n",
    "WORKING_DIR = \"drive/MyDrive/__GGabry/StableDiffusion-utils\"\n",
    "\n",
    "try: os.chdir(WORKING_DIR)\n",
    "except: pass\n",
    "\n",
    "assert torch.cuda.get_device_name() == \"Tesla T4\"\n",
    "from utils import  StableDiffusionHelper # type: ignore\n",
    "\n",
    "from env.tokens import HUGGING_FACE_TOKEN\n",
    "huggingface_hub.hf_api.HfFolder.save_token(HUGGING_FACE_TOKEN)"
   ]
  },
  {
   "cell_type": "code",
   "execution_count": null,
   "metadata": {
    "id": "CLnScO7QDz73",
    "executionInfo": {
     "status": "aborted",
     "timestamp": 1673287306587,
     "user_tz": -60,
     "elapsed": 8,
     "user": {
      "displayName": "Gabriele Ghisleni",
      "userId": "08348063350819652629"
     }
    }
   },
   "outputs": [],
   "source": [
    "%%capture\n",
    "model_hub = \"stabilityai/stable-diffusion-2-1\"\n",
    "\n",
    "lmsd_scheduler = diffusers.LMSDiscreteScheduler(\n",
    "  beta_start=0.00085,\n",
    "    beta_end=0.012,\n",
    "    beta_schedule=\"scaled_linear\"\n",
    ")\n",
    "\n",
    "PIPE = diffusers.StableDiffusionPipeline.from_pretrained(\n",
    "    pretrained_model_name_or_path = model_hub,\n",
    "    scheduler = lmsd_scheduler,\n",
    "    torch_dtype=torch.float16,\n",
    "    revision=\"fp16\",\n",
    "    use_auth_token=True,\n",
    "    safety_checker=None\n",
    "  ).to(\"cuda\")\n",
    "\n",
    "STH = StableDiffusionHelper(PIPE)"
   ]
  },
  {
   "cell_type": "code",
   "execution_count": null,
   "metadata": {
    "id": "Fqzi0Lv9czrq",
    "executionInfo": {
     "status": "aborted",
     "timestamp": 1673287306586,
     "user_tz": -60,
     "elapsed": 8,
     "user": {
      "displayName": "Gabriele Ghisleni",
      "userId": "08348063350819652629"
     }
    }
   },
   "outputs": [],
   "source": [
    "prompts = list(itertools.chain.from_iterable([\n",
    "  [\"a bee, Cartoon, Artstation, stylish, digital art\"] *3,\n",
    "  [\"a magic bee, anime, artstation, digital art\"] * 3\n",
    "]))\n",
    "\n",
    "\n",
    "N_STEPS = 100\n",
    "GUIDANCE_SCALES = {3, 7, 12, 30}\n",
    "\n",
    "STH = StableDiffusionHelper(PIPE)\n",
    "imgs = STH.generate_images(prompts, GUIDANCE_SCALES, N_STEPS, w=512, h=512)"
   ]
  },
  {
   "cell_type": "code",
   "source": [
    "STH.display_images_grid(imgs)\n"
   ],
   "metadata": {
    "id": "MtT_ldW-6fpR",
    "executionInfo": {
     "status": "aborted",
     "timestamp": 1673287306586,
     "user_tz": -60,
     "elapsed": 8,
     "user": {
      "displayName": "Gabriele Ghisleni",
      "userId": "08348063350819652629"
     }
    }
   },
   "execution_count": null,
   "outputs": []
  }
 ],
 "metadata": {
  "accelerator": "GPU",
  "colab": {
   "machine_shape": "hm",
   "provenance": [
    {
     "file_id": "https://github.com/huggingface/notebooks/blob/main/diffusers/stable_diffusion.ipynb",
     "timestamp": 1664098378881
    }
   ]
  },
  "gpuClass": "standard",
  "kernelspec": {
   "display_name": "Python 3",
   "name": "python3"
  },
  "language_info": {
   "name": "python"
  }
 },
 "nbformat": 4,
 "nbformat_minor": 0
}
